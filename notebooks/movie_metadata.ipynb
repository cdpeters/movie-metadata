{
 "cells": [
  {
   "cell_type": "code",
   "execution_count": null,
   "id": "0",
   "metadata": {},
   "outputs": [],
   "source": [
    "from pathlib import Path\n",
    "\n",
    "import polars as pl\n",
    "import polars.selectors as cs\n",
    "import seaborn as sns\n",
    "import matplotlib.pyplot as plt\n",
    "import plotly.express as px\n",
    "from plotly.subplots import make_subplots\n",
    "import plotly.graph_objects as go"
   ]
  },
  {
   "cell_type": "markdown",
   "id": "1",
   "metadata": {},
   "source": [
    "## Extract\n",
    "1. Read the CSV into a dataframe.\n",
    "2. Remove columns that will not be used in the analysis: `Poster_Link`, `Overview`, and `Certificate`.\n",
    "3. Convert all column names to lowercase for uniformity.\n",
    "4. Adjust the max allowed length of strings in outputs to easily see the full titles of movies."
   ]
  },
  {
   "cell_type": "code",
   "execution_count": null,
   "id": "2",
   "metadata": {},
   "outputs": [],
   "source": [
    "movie_metadata_path = Path.cwd() / \"imdb_top_1000.csv\"\n",
    "\n",
    "# 1. Read CSV into dataframe. mm_raw = raw movie metadata dataframe. `Released_Year` is\n",
    "# mapped to a string because there is at least 1 value in that column that cannot be\n",
    "# inferred as an integer. This is investigated further below.\n",
    "mm_raw = pl.read_csv(source=movie_metadata_path, schema_overrides={\"Released_Year\": pl.String})\n",
    "\n",
    "# 2. Drop the `Poster_Link`, `Overview`, and `Certificate` columns.\n",
    "mm = mm_raw.select(pl.col(\"*\").exclude(\"Poster_Link\", \"Overview\", \"Certificate\"))\n",
    "\n",
    "# 3. Convert column names to lowercase.\n",
    "mm = mm.rename(lambda col_name: col_name.lower())\n",
    "\n",
    "# 4. Adjust max allowed string length in output. The movie title is treated as the\n",
    "# priority for viewing string output in the dataframe.\n",
    "max_title_len = mm[\"series_title\"].str.len_bytes().max()\n",
    "pl.Config.set_fmt_str_lengths(max_title_len)\n",
    "\n",
    "print(f\"full dataframe shape: {mm.shape}\")\n",
    "mm.head()"
   ]
  },
  {
   "cell_type": "markdown",
   "id": "3",
   "metadata": {},
   "source": [
    "## Explore\n",
    "### Column Names Per Data Type"
   ]
  },
  {
   "cell_type": "code",
   "execution_count": null,
   "id": "4",
   "metadata": {},
   "outputs": [],
   "source": [
    "# First check what data types are in the dataframe.\n",
    "pl.Series(mm.dtypes).value_counts(sort=True)"
   ]
  },
  {
   "cell_type": "markdown",
   "id": "5",
   "metadata": {},
   "source": [
    "#### Integer Columns"
   ]
  },
  {
   "cell_type": "code",
   "execution_count": null,
   "id": "6",
   "metadata": {},
   "outputs": [],
   "source": [
    "mm.select(cs.integer()).columns"
   ]
  },
  {
   "cell_type": "markdown",
   "id": "7",
   "metadata": {},
   "source": [
    "#### String Columns"
   ]
  },
  {
   "cell_type": "code",
   "execution_count": null,
   "id": "8",
   "metadata": {},
   "outputs": [],
   "source": [
    "mm.select(cs.string()).columns"
   ]
  },
  {
   "cell_type": "markdown",
   "id": "9",
   "metadata": {},
   "source": [
    "`released_year`, `runtime`, and `gross` should all be integer columns."
   ]
  },
  {
   "cell_type": "markdown",
   "id": "10",
   "metadata": {},
   "source": [
    "#### Float Columns"
   ]
  },
  {
   "cell_type": "code",
   "execution_count": null,
   "id": "11",
   "metadata": {},
   "outputs": [],
   "source": [
    "mm.select(cs.float()).columns"
   ]
  },
  {
   "cell_type": "markdown",
   "id": "12",
   "metadata": {},
   "source": [
    "### Find the `released_year` Values That Prevent Casting to Integer Column"
   ]
  },
  {
   "cell_type": "code",
   "execution_count": null,
   "id": "13",
   "metadata": {},
   "outputs": [],
   "source": [
    "# Cast to integer by supressing the error that results. Then find the null values.\n",
    "mm.filter(pl.col(\"released_year\").cast(pl.Int64, strict=False).is_null())"
   ]
  },
  {
   "cell_type": "markdown",
   "id": "14",
   "metadata": {},
   "source": [
    "The only problem row preventing casting is the movie `\"Apollo 13\"`. The release year for this movie is `1995` and will be updated in the **Column Transformations** section below."
   ]
  },
  {
   "cell_type": "markdown",
   "id": "15",
   "metadata": {},
   "source": [
    "### Missing/Null Values"
   ]
  },
  {
   "cell_type": "code",
   "execution_count": null,
   "id": "16",
   "metadata": {},
   "outputs": [],
   "source": [
    "mm.null_count()"
   ]
  },
  {
   "cell_type": "markdown",
   "id": "17",
   "metadata": {},
   "source": [
    "Null values are only found in the `gross` and `meta_score` columns. This is not really an issue therefore no action will be taken for null values."
   ]
  },
  {
   "cell_type": "markdown",
   "id": "18",
   "metadata": {},
   "source": [
    "### Duplicates\n",
    "#### `series_title`"
   ]
  },
  {
   "cell_type": "code",
   "execution_count": null,
   "id": "19",
   "metadata": {},
   "outputs": [],
   "source": [
    "mm.filter(pl.col(\"series_title\").is_duplicated())"
   ]
  },
  {
   "cell_type": "markdown",
   "id": "20",
   "metadata": {},
   "source": [
    "There are two movies that share the same title but are clearly different movies. No action is needed."
   ]
  },
  {
   "cell_type": "markdown",
   "id": "21",
   "metadata": {},
   "source": [
    "#### Combination of `series_title` and `released_year`"
   ]
  },
  {
   "cell_type": "code",
   "execution_count": null,
   "id": "22",
   "metadata": {},
   "outputs": [],
   "source": [
    "# `pl.struct` is used to tie the two columns together in one object.\n",
    "mm.filter(pl.struct(\"series_title\", \"released_year\").is_duplicated())"
   ]
  },
  {
   "cell_type": "markdown",
   "id": "23",
   "metadata": {},
   "source": [
    "There are no duplicates when `series_title` and `released_year` are used in combination as a unique identifier for each row. Although not the goal of the project, if a database was constructed, `series_title` with `released_year` could be used as a composite primary key."
   ]
  },
  {
   "cell_type": "markdown",
   "id": "24",
   "metadata": {},
   "source": [
    "## Transformations\n",
    "### Column Reordering"
   ]
  },
  {
   "cell_type": "code",
   "execution_count": null,
   "id": "25",
   "metadata": {},
   "outputs": [],
   "source": [
    "# A more logical ordering.\n",
    "col_order = [\n",
    "    \"series_title\",\n",
    "    \"released_year\",\n",
    "    \"genre\",\n",
    "    \"director\",\n",
    "    \"star1\",\n",
    "    \"star2\",\n",
    "    \"star3\",\n",
    "    \"star4\",\n",
    "    \"runtime\",\n",
    "    \"gross\",\n",
    "    \"meta_score\",\n",
    "    \"imdb_rating\",\n",
    "    \"no_of_votes\",\n",
    "]\n",
    "\n",
    "mm = mm.select(col_order)\n",
    "mm.head()"
   ]
  },
  {
   "cell_type": "markdown",
   "id": "26",
   "metadata": {},
   "source": [
    "### Column Transformations\n",
    "1. `released_year`\n",
    "    - There is one value that is preventing the column from being cast as an integer column. The movie is `\"Apollo 13\"`; the `released_year` value is `\"PG\"` and should be changed to `\"1995\"`. Then the column can be cast to an integer column. `pl.lit()` is needed because polars would otherwise try to look for a column named `\"1995\"`. Now the column can be cast to an integer type.\n",
    "1. `genre`\n",
    "    - The values need to be split on \", \". The split operation will cast the column as a list type.\n",
    "1. `runtime`\n",
    "    - The characters \" min\" need to be removed. Then cast to an integer type.\n",
    "1. `gross`\n",
    "    - All of the \",\" characters need to be removed. Then cast to an integer type."
   ]
  },
  {
   "cell_type": "code",
   "execution_count": null,
   "id": "27",
   "metadata": {},
   "outputs": [],
   "source": [
    "mm = mm.with_columns(\n",
    "    # Convert `released_year` to integer column.\n",
    "    pl.when(pl.col(\"released_year\") == \"PG\")\n",
    "    .then(pl.lit(\"1995\"))\n",
    "    .otherwise(pl.col(\"released_year\"))\n",
    "    .cast(pl.Int16)\n",
    "    .alias(\"released_year\"),\n",
    "    # Convert `genre` to a list Column.\n",
    "    pl.col(\"genre\").str.split(\", \"),\n",
    "    # Address the `runtime` column.\n",
    "    pl.col(\"runtime\").str.strip_chars_end(characters=\" min\").cast(pl.Int16),\n",
    "    # Address the `gross` column.\n",
    "    pl.col(\"gross\").str.replace_all(pattern=\",\", value=\"\", literal=True).cast(pl.Int32),\n",
    ")\n",
    "mm.head()"
   ]
  },
  {
   "cell_type": "markdown",
   "id": "28",
   "metadata": {},
   "source": [
    "### Distributions of Numeric Columns"
   ]
  },
  {
   "cell_type": "code",
   "execution_count": null,
   "id": "29",
   "metadata": {},
   "outputs": [],
   "source": [
    "# Select only the numeric columns.\n",
    "numeric_data = mm.select(cs.numeric())\n",
    "\n",
    "# Create a 2x3 subplot figure.\n",
    "fig = make_subplots(\n",
    "    rows=2,\n",
    "    cols=3,\n",
    "    subplot_titles=numeric_data.columns,\n",
    "    horizontal_spacing=0.1,\n",
    "    vertical_spacing=0.09,\n",
    ")\n",
    "\n",
    "# Create a \"flat\" list of subplot references in order to assign each column's boxplot in\n",
    "# the for loop below.\n",
    "subplot_refs = [(row, col) for row in range(1, 3) for col in range(1, 4)]\n",
    "\n",
    "# Iterate through the columns and create a box plot for each.\n",
    "for (row, col), col_name in zip(subplot_refs, numeric_data.columns):\n",
    "    # Create box plot and add to figure.\n",
    "    box_plot = px.box(numeric_data, y=col_name)\n",
    "    fig.add_trace(box_plot.data[0], row=row, col=col)\n",
    "\n",
    "# Update layout\n",
    "fig.update_layout(\n",
    "    height=800,  # Adjust the height as needed\n",
    "    width=800,  # Adjust the width as needed\n",
    "    title={\n",
    "        'text': \"Numeric Column Distributions\",\n",
    "        'y': 0.965,\n",
    "        'x': 0.5,\n",
    "        'xanchor': 'center',\n",
    "        'yanchor': 'top'\n",
    "    },\n",
    "    showlegend=False,\n",
    "    margin=dict(t=85, l=30, r=30, b=30)\n",
    ")\n",
    "\n",
    "# Show the plot\n",
    "fig.show()"
   ]
  },
  {
   "cell_type": "markdown",
   "id": "30",
   "metadata": {},
   "source": [
    "### Grouping by `imdb_rating`"
   ]
  },
  {
   "cell_type": "code",
   "execution_count": null,
   "id": "31",
   "metadata": {},
   "outputs": [],
   "source": [
    "# Create groups via the `cut` function's bins.\n",
    "mm.group_by(\n",
    "    pl.col(\"imdb_rating\")\n",
    "    .cut(\n",
    "        breaks=[8.0, 9.0],\n",
    "        labels=[\"rating < 8\", \"8 <= rating < 9\", \"rating >= 9\"],\n",
    "        left_closed=True,\n",
    "    )\n",
    "    .alias(\"imdb_rating_group\")\n",
    ").agg(pl.col(\"imdb_rating\").mean().alias(\"avg_rating_per_group\").round(2))"
   ]
  },
  {
   "cell_type": "code",
   "execution_count": null,
   "id": "32",
   "metadata": {},
   "outputs": [],
   "source": [
    "mm.describe()"
   ]
  },
  {
   "cell_type": "code",
   "execution_count": null,
   "id": "33",
   "metadata": {},
   "outputs": [],
   "source": [
    "mm.head()"
   ]
  },
  {
   "cell_type": "markdown",
   "id": "34",
   "metadata": {},
   "source": [
    "## Analysis"
   ]
  },
  {
   "cell_type": "code",
   "execution_count": null,
   "id": "35",
   "metadata": {},
   "outputs": [],
   "source": [
    "mm.select(pl.col(\"genre\").list.explode().unique())"
   ]
  },
  {
   "cell_type": "markdown",
   "id": "36",
   "metadata": {},
   "source": [
    "There are 21 unique genres. The genres could be multi-hot encoded across 21 new columns as would need to be done in pandas. Instead, the functionality of polars `List` type column will be used for analysis operations involving the genres."
   ]
  },
  {
   "cell_type": "code",
   "execution_count": null,
   "id": "37",
   "metadata": {},
   "outputs": [],
   "source": []
  }
 ],
 "metadata": {
  "kernelspec": {
   "display_name": "collab",
   "language": "python",
   "name": "collab"
  },
  "language_info": {
   "codemirror_mode": {
    "name": "ipython",
    "version": 3
   },
   "file_extension": ".py",
   "mimetype": "text/x-python",
   "name": "python",
   "nbconvert_exporter": "python",
   "pygments_lexer": "ipython3",
   "version": "3.11.9"
  }
 },
 "nbformat": 4,
 "nbformat_minor": 5
}
