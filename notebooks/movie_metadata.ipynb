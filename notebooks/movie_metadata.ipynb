{
 "cells": [
  {
   "cell_type": "code",
   "execution_count": null,
   "id": "0",
   "metadata": {},
   "outputs": [],
   "source": [
    "from pathlib import Path\n",
    "\n",
    "import matplotlib.pyplot as plt\n",
    "import plotly.express as px\n",
    "import plotly.graph_objects as go\n",
    "import polars as pl\n",
    "import polars.selectors as cs\n",
    "import seaborn as sns\n",
    "from plotly.subplots import make_subplots\n",
    "\n",
    "pl.Config.set_tbl_rows(25)"
   ]
  },
  {
   "cell_type": "markdown",
   "id": "1",
   "metadata": {},
   "source": [
    "# Movie Metadata Analysis\n",
    "## Extract\n",
    "1. Read the CSV into a dataframe.\n",
    "    - `mm_raw` - raw movie metadata dataframe\n",
    "    - `mm` - transformed movie metadata dataframe\n",
    "    - `Released_Year` is mapped to a string because there is at least 1 value in that column that cannot be inferred as an integer\n",
    "    - this is investigated in additional cells below\n",
    "2. Remove columns that will not be used in the analysis:\n",
    "    - `Poster_Link`\n",
    "    - `Overview`\n",
    "    - `Certificate`\n",
    "3. Convert all column names to lowercase for uniformity.\n",
    "4. Adjust the max allowed length of strings in outputs to easily see the full titles of movies\n",
    "    - the movie title is treated as the priority for viewing string output in the dataframe"
   ]
  },
  {
   "cell_type": "code",
   "execution_count": null,
   "id": "2",
   "metadata": {},
   "outputs": [],
   "source": [
    "movie_metadata_path: Path = Path.cwd() / \"imdb_top_1000.csv\"\n",
    "\n",
    "mm_raw: DataFrame = pl.read_csv(\n",
    "    source=movie_metadata_path, schema_overrides={\"Released_Year\": pl.String}\n",
    ")\n",
    "\n",
    "mm: DataFrame = (\n",
    "    mm_raw\n",
    "    .select(pl.col(\"*\").exclude(\"Poster_Link\", \"Overview\", \"Certificate\"))\n",
    "    .rename(lambda col_name: col_name.lower())\n",
    ")\n",
    "\n",
    "max_title_len: int = mm[\"series_title\"].str.len_bytes().max()\n",
    "pl.Config.set_fmt_str_lengths(max_title_len)\n",
    "\n",
    "print(f\"full dataframe shape: {mm.shape}\")\n",
    "mm.head()"
   ]
  },
  {
   "cell_type": "markdown",
   "id": "3",
   "metadata": {},
   "source": [
    "## Explore\n",
    "### Columns Per Data Type"
   ]
  },
  {
   "cell_type": "code",
   "execution_count": null,
   "id": "4",
   "metadata": {},
   "outputs": [],
   "source": [
    "# First check what data types are in the dataframe.\n",
    "pl.Series(mm.dtypes).value_counts(sort=True)"
   ]
  },
  {
   "cell_type": "markdown",
   "id": "5",
   "metadata": {},
   "source": [
    "#### Integer Columns"
   ]
  },
  {
   "cell_type": "code",
   "execution_count": null,
   "id": "6",
   "metadata": {},
   "outputs": [],
   "source": [
    "mm.select(cs.integer()).columns"
   ]
  },
  {
   "cell_type": "markdown",
   "id": "7",
   "metadata": {},
   "source": [
    "#### String Columns"
   ]
  },
  {
   "cell_type": "code",
   "execution_count": null,
   "id": "8",
   "metadata": {},
   "outputs": [],
   "source": [
    "mm.select(cs.string()).columns"
   ]
  },
  {
   "cell_type": "markdown",
   "id": "9",
   "metadata": {},
   "source": [
    "`released_year`, `runtime`, and `gross` should all be integer columns."
   ]
  },
  {
   "cell_type": "markdown",
   "id": "10",
   "metadata": {},
   "source": [
    "#### Float Columns"
   ]
  },
  {
   "cell_type": "code",
   "execution_count": null,
   "id": "11",
   "metadata": {},
   "outputs": [],
   "source": [
    "mm.select(cs.float()).columns"
   ]
  },
  {
   "cell_type": "markdown",
   "id": "12",
   "metadata": {},
   "source": [
    "### Find the `released_year` Values That Prevent Casting to Integer Column"
   ]
  },
  {
   "cell_type": "code",
   "execution_count": null,
   "id": "13",
   "metadata": {},
   "outputs": [],
   "source": [
    "# Cast to integer by supressing the error that results. Then find the null values.\n",
    "mm.filter(pl.col(\"released_year\").cast(pl.Int64, strict=False).is_null())"
   ]
  },
  {
   "cell_type": "markdown",
   "id": "14",
   "metadata": {},
   "source": [
    "The only problem row preventing casting is the movie `\"Apollo 13\"`. The release year for this movie is `1995` and will be updated in the **Column Transformations** section below."
   ]
  },
  {
   "cell_type": "markdown",
   "id": "15",
   "metadata": {},
   "source": [
    "### Missing/Null Values"
   ]
  },
  {
   "cell_type": "code",
   "execution_count": null,
   "id": "16",
   "metadata": {},
   "outputs": [],
   "source": [
    "mm.null_count()"
   ]
  },
  {
   "cell_type": "markdown",
   "id": "17",
   "metadata": {},
   "source": [
    "Null values are only found in the `gross` and `meta_score` columns. This is not really an issue therefore no action will be taken for null values."
   ]
  },
  {
   "cell_type": "markdown",
   "id": "18",
   "metadata": {},
   "source": [
    "### Duplicates\n",
    "#### `series_title` Duplicates"
   ]
  },
  {
   "cell_type": "code",
   "execution_count": null,
   "id": "19",
   "metadata": {},
   "outputs": [],
   "source": [
    "mm.filter(pl.col(\"series_title\").is_duplicated())"
   ]
  },
  {
   "cell_type": "markdown",
   "id": "20",
   "metadata": {},
   "source": [
    "There are two movies that share the same title but are clearly different movies. No action is needed."
   ]
  },
  {
   "cell_type": "markdown",
   "id": "21",
   "metadata": {},
   "source": [
    "#### Combination of `series_title` and `released_year` Duplicates"
   ]
  },
  {
   "cell_type": "code",
   "execution_count": null,
   "id": "22",
   "metadata": {},
   "outputs": [],
   "source": [
    "# `pl.struct` is used to tie the two columns together in one object.\n",
    "mm.filter(pl.struct(\"series_title\", \"released_year\").is_duplicated())"
   ]
  },
  {
   "cell_type": "markdown",
   "id": "23",
   "metadata": {},
   "source": [
    "There are no duplicates when `series_title` and `released_year` are used in combination as a unique identifier for each row. Although not the goal of the project, if a database was constructed, `series_title` with `released_year` could be used as a composite primary key."
   ]
  },
  {
   "cell_type": "markdown",
   "id": "24",
   "metadata": {},
   "source": [
    "## Transformations\n",
    "### Column Reordering"
   ]
  },
  {
   "cell_type": "code",
   "execution_count": null,
   "id": "25",
   "metadata": {},
   "outputs": [],
   "source": [
    "# A more logical ordering.\n",
    "col_order = [\n",
    "    \"series_title\",\n",
    "    \"released_year\",\n",
    "    \"genre\",\n",
    "    \"director\",\n",
    "    \"star1\",\n",
    "    \"star2\",\n",
    "    \"star3\",\n",
    "    \"star4\",\n",
    "    \"runtime\",\n",
    "    \"gross\",\n",
    "    \"meta_score\",\n",
    "    \"imdb_rating\",\n",
    "    \"no_of_votes\",\n",
    "]\n",
    "\n",
    "mm = mm.select(col_order)\n",
    "mm.head()"
   ]
  },
  {
   "cell_type": "markdown",
   "id": "26",
   "metadata": {},
   "source": [
    "### Column Transformations\n",
    "1. `released_year`\n",
    "    - There is one value that is preventing the column from being cast as an integer column. The movie is `\"Apollo 13\"`; the `released_year` value is `\"PG\"` and should be changed to `\"1995\"`. Then the column can be cast to an integer column. `pl.lit()` is needed because polars would otherwise try to look for a column named `\"1995\"`. Now the column can be cast to an integer type.\n",
    "1. `genre`\n",
    "    - The values need to be split on \", \". The split operation will cast the column as a list type.\n",
    "1. `runtime`\n",
    "    - The characters \" min\" need to be removed. Then cast to an integer type.\n",
    "1. `gross`\n",
    "    - All of the \",\" characters need to be removed. Then cast to an integer type."
   ]
  },
  {
   "cell_type": "code",
   "execution_count": null,
   "id": "27",
   "metadata": {},
   "outputs": [],
   "source": [
    "mm = mm.with_columns(\n",
    "    # Convert `released_year` to integer column.\n",
    "    pl.when(pl.col(\"released_year\") == \"PG\")\n",
    "    .then(pl.lit(\"1995\"))\n",
    "    .otherwise(pl.col(\"released_year\"))\n",
    "    .cast(pl.Int16)\n",
    "    .alias(\"released_year\"),\n",
    "    # Convert `genre` to a list Column.\n",
    "    pl.col(\"genre\").str.split(\", \"),\n",
    "    # Address the `runtime` column.\n",
    "    pl.col(\"runtime\").str.strip_chars_end(characters=\" min\").cast(pl.Int16),\n",
    "    # Address the `gross` column.\n",
    "    pl.col(\"gross\").str.replace_all(pattern=\",\", value=\"\", literal=True).cast(pl.Int32),\n",
    ")\n",
    "mm.head()"
   ]
  },
  {
   "cell_type": "markdown",
   "id": "28",
   "metadata": {},
   "source": [
    "### Distributions of Numeric Columns"
   ]
  },
  {
   "cell_type": "code",
   "execution_count": null,
   "id": "29",
   "metadata": {},
   "outputs": [],
   "source": [
    "# Select only the numeric columns.\n",
    "numeric_data = mm.select(cs.numeric())\n",
    "\n",
    "# Create a 2x3 subplot figure.\n",
    "fig = make_subplots(\n",
    "    rows=2,\n",
    "    cols=3,\n",
    "    subplot_titles=numeric_data.columns,\n",
    "    horizontal_spacing=0.1,\n",
    "    vertical_spacing=0.09,\n",
    ")\n",
    "\n",
    "# Create a \"flat\" list of subplot references in order to assign each column's boxplot in\n",
    "# the for loop below.\n",
    "subplot_refs = [(row, col) for row in range(1, 3) for col in range(1, 4)]\n",
    "\n",
    "for (row, col), col_name in zip(subplot_refs, numeric_data.columns):\n",
    "    # Create box plot and add to figure.\n",
    "    box_plot = px.box(numeric_data, y=col_name)\n",
    "    fig.add_trace(box_plot.data[0], row=row, col=col)\n",
    "\n",
    "fig.update_layout(\n",
    "    height=800,\n",
    "    width=800,\n",
    "    title={\n",
    "        \"text\": \"Numeric Column Distributions\",\n",
    "        \"y\": 0.965,\n",
    "        \"x\": 0.5,\n",
    "        \"xanchor\": \"center\",\n",
    "        \"yanchor\": \"top\",\n",
    "    },\n",
    "    yaxis3_type=\"log\",\n",
    "    yaxis6_type=\"log\",\n",
    "    showlegend=False,\n",
    "    margin=dict(t=85, l=30, r=30, b=30),\n",
    ")\n",
    "\n",
    "fig.show()"
   ]
  },
  {
   "cell_type": "code",
   "execution_count": null,
   "id": "30",
   "metadata": {},
   "outputs": [],
   "source": [
    "mm.describe()"
   ]
  },
  {
   "cell_type": "markdown",
   "id": "31",
   "metadata": {},
   "source": [
    "### Handling Genres"
   ]
  },
  {
   "cell_type": "code",
   "execution_count": null,
   "id": "32",
   "metadata": {},
   "outputs": [],
   "source": [
    "mm.select(pl.col(\"genre\").list.explode().unique())"
   ]
  },
  {
   "cell_type": "markdown",
   "id": "33",
   "metadata": {},
   "source": [
    "There are 21 unique genres. For analysis operations, the genres could be multi-hot encoded across 21 new columns. Instead, the functionality of the polars `List` type column will be used for the operations involving the genres."
   ]
  },
  {
   "cell_type": "markdown",
   "id": "34",
   "metadata": {},
   "source": [
    "## Analysis"
   ]
  },
  {
   "cell_type": "markdown",
   "id": "35",
   "metadata": {},
   "source": [
    "### Top Directors Average IMDB Rating\n",
    "Find the 3 directors with the most movies. What is the average imdb score for each?"
   ]
  },
  {
   "cell_type": "code",
   "execution_count": null,
   "id": "36",
   "metadata": {},
   "outputs": [],
   "source": [
    "(\n",
    "    mm\n",
    "    .group_by(\"director\")\n",
    "    .agg(\n",
    "        pl.len().alias(\"movie_count\"),\n",
    "        pl.mean(\"imdb_rating\").round(2).alias(\"avg_imdb_rating\"),\n",
    "    )\n",
    "    .sort(by=\"movie_count\", descending=True)\n",
    "    .head(3)\n",
    ")"
   ]
  },
  {
   "cell_type": "markdown",
   "id": "37",
   "metadata": {},
   "source": [
    "### Actor Roles\n",
    "Find actors with the most leading roles (`star1`). Find the actors with the most roles.\n",
    "#### Actors with the most leading roles (`star1`)"
   ]
  },
  {
   "cell_type": "code",
   "execution_count": null,
   "id": "38",
   "metadata": {},
   "outputs": [],
   "source": [
    "(\n",
    "    mm\n",
    "    .group_by(\"star1\")\n",
    "    .len()\n",
    "    .sort(by=\"len\", descending=True)\n",
    "    .head(10)\n",
    "    .select(\n",
    "        pl.col(\"star1\").alias(\"actor\"),\n",
    "        pl.col(\"len\").alias(\"leading_roles\"),\n",
    "    )\n",
    ")"
   ]
  },
  {
   "cell_type": "markdown",
   "id": "39",
   "metadata": {},
   "source": [
    "#### Actors with the most roles"
   ]
  },
  {
   "cell_type": "code",
   "execution_count": null,
   "id": "40",
   "metadata": {},
   "outputs": [],
   "source": [
    "(\n",
    "    mm\n",
    "    .select(\n",
    "        pl.col(\"star1\"),\n",
    "        pl.col(\"star2\"),\n",
    "        pl.col(\"star3\"),\n",
    "        pl.col(\"star4\"),\n",
    "    )\n",
    "    .melt()\n",
    "    .group_by(\"value\")\n",
    "    .len()\n",
    "    .sort(by=\"len\", descending=True)\n",
    "    .head(10)\n",
    "    .select(\n",
    "        pl.col(\"value\").alias(\"actor\"),\n",
    "        pl.col(\"len\").alias(\"roles\"),\n",
    "    )\n",
    ")"
   ]
  },
  {
   "cell_type": "markdown",
   "id": "41",
   "metadata": {},
   "source": [
    "### Director/Actor Pairings\n",
    "For directors Steven Spielberg and Martin Scorsese, which actors have they worked with the most.\n",
    "#### Steven Spielberg"
   ]
  },
  {
   "cell_type": "code",
   "execution_count": null,
   "id": "42",
   "metadata": {},
   "outputs": [],
   "source": [
    "(\n",
    "    mm\n",
    "    .filter(pl.col(\"director\") == \"Steven Spielberg\")\n",
    "    .select(\n",
    "        pl.col(\"star1\"),\n",
    "        pl.col(\"star2\"),\n",
    "        pl.col(\"star3\"),\n",
    "        pl.col(\"star4\"),\n",
    "    )\n",
    "    .melt()\n",
    "    .group_by(\"value\")\n",
    "    .len()\n",
    "    .sort(by=\"len\", descending=True)\n",
    "    .head(3)\n",
    "    .select(\n",
    "        pl.col(\"value\").alias(\"actor\"),\n",
    "        pl.col(\"len\").alias(\"worked_with_spielberg\"),\n",
    "    )\n",
    ")"
   ]
  },
  {
   "cell_type": "markdown",
   "id": "43",
   "metadata": {},
   "source": [
    "#### Martin Scorsese"
   ]
  },
  {
   "cell_type": "code",
   "execution_count": null,
   "id": "44",
   "metadata": {},
   "outputs": [],
   "source": [
    "(\n",
    "    mm\n",
    "    .filter(pl.col(\"director\") == \"Martin Scorsese\")\n",
    "    .select(\n",
    "        pl.col(\"star1\"),\n",
    "        pl.col(\"star2\"),\n",
    "        pl.col(\"star3\"),\n",
    "        pl.col(\"star4\"),\n",
    "    )\n",
    "    .melt()\n",
    "    .group_by(\"value\")\n",
    "    .len()\n",
    "    .sort(by=\"len\", descending=True)\n",
    "    .head(3)\n",
    "    .select(\n",
    "        pl.col(\"value\").alias(\"actor\"),\n",
    "        pl.col(\"len\").alias(\"worked_with_scorsese\"),\n",
    "    )\n",
    ")"
   ]
  },
  {
   "cell_type": "markdown",
   "id": "45",
   "metadata": {},
   "source": [
    "### Highest Rated Movie 2006-2016\n",
    "Find the highest rated movie in each year from 2006-2016."
   ]
  },
  {
   "cell_type": "code",
   "execution_count": null,
   "id": "46",
   "metadata": {},
   "outputs": [],
   "source": [
    "(\n",
    "    mm\n",
    "    .filter(pl.col(\"released_year\").is_between(2006, 2016))\n",
    "    .group_by(\"released_year\")\n",
    "    .agg(\n",
    "        pl.col('series_title').filter(pl.col('imdb_rating') == pl.col('imdb_rating').max()).alias(\"highest_rated_movies\"),\n",
    "        pl.max(\"imdb_rating\"),\n",
    "    )\n",
    "    .sort(by=\"released_year\")\n",
    ")"
   ]
  },
  {
   "cell_type": "markdown",
   "id": "47",
   "metadata": {},
   "source": [
    "### Plots\n",
    "#### Relationship between `runtime` and `gross`"
   ]
  },
  {
   "cell_type": "code",
   "execution_count": null,
   "id": "48",
   "metadata": {},
   "outputs": [],
   "source": [
    "# Filter out movies that don't have a `gross` value.\n",
    "filtered_mm = mm.filter(pl.col(\"gross\").is_not_null())\n",
    "\n",
    "# Add 2 new columns representing the decade of release year and the imdb rating group.\n",
    "# \\u2264 and \\u2265 are less than or equal to and greater than or equal to respectively.\n",
    "filtered_mm = (\n",
    "    filtered_mm\n",
    "    .with_columns(\n",
    "        ((pl.col(\"released_year\") // 10) * 10).alias(\"decade\"),\n",
    "        pl.col(\"imdb_rating\")\n",
    "        .cut(\n",
    "            breaks=[8.0, 9.0],\n",
    "            labels=[\"rating < 8\", \"8 \\u2264 rating < 9\", \"rating \\u2265 9\"],\n",
    "            left_closed=True,\n",
    "        )\n",
    "        .alias(\"imdb_rating_group\"),\n",
    "    )\n",
    "    .sort(by=\"decade\")\n",
    ")\n",
    "\n",
    "# fig = px.scatter(\n",
    "#     filtered_mm,\n",
    "#     x=\"runtime\",\n",
    "#     y=\"gross\",\n",
    "#     log_y=True,\n",
    "#     color=\"decade\",\n",
    "#     title=\"Gross Earnings vs. Runtime\",\n",
    "#     labels={\"runtime\": \"Runtime [min]\", \"gross\": \"Gross [$]\"},\n",
    "#     custom_data=\"series_title\",\n",
    "# )\n",
    "\n",
    "fig = px.scatter(\n",
    "    filtered_mm,\n",
    "    x=\"runtime\",\n",
    "    y=\"gross\",\n",
    "    log_y=True,\n",
    "    color=\"imdb_rating_group\",\n",
    "    facet_col=\"decade\",\n",
    "    facet_col_wrap=5,\n",
    "    title=\"Gross Earnings vs. Runtime\",\n",
    "    labels={\"runtime\": \"Runtime [min]\", \"gross\": \"Gross [$]\", \"decade\": \"Decade\"},\n",
    "    custom_data=\"series_title\",\n",
    "    opacity=0.6,\n",
    ")\n",
    "\n",
    "fig.update_layout(\n",
    "    height=400,\n",
    "    width=1200,\n",
    "    title={\n",
    "        \"y\": 0.95,\n",
    "        \"x\": 0.5,\n",
    "        \"xanchor\": \"center\",\n",
    "        \"yanchor\": \"top\",\n",
    "    },\n",
    "    margin=dict(t=65, l=30, r=30, b=30),\n",
    ")\n",
    "\n",
    "fig.update_traces(\n",
    "    hovertemplate=\"<b>Movie:</b> %{customdata}<br>\"\n",
    "                + \"<b>Runtime:</b> %{x} minutes<br>\"\n",
    "                + \"<b>Gross:</b> $%{y:,.0f}<extra></extra>\",\n",
    ")\n",
    "\n",
    "fig.show()"
   ]
  },
  {
   "cell_type": "markdown",
   "id": "49",
   "metadata": {},
   "source": [
    "#### Relationship between `imdb_rating` and `gross`"
   ]
  },
  {
   "cell_type": "code",
   "execution_count": null,
   "id": "50",
   "metadata": {},
   "outputs": [],
   "source": [
    "# Filter out movies that don't have a `gross` value.\n",
    "filtered_mm = mm.filter(pl.col(\"gross\").is_not_null())\n",
    "\n",
    "# Add 2 new columns representing the decade of release year and the imdb rating group.\n",
    "filtered_mm = (\n",
    "    filtered_mm\n",
    "    .with_columns(\n",
    "        ((pl.col(\"released_year\") // 10) * 10).alias(\"decade\"),\n",
    "        pl.col(\"imdb_rating\")\n",
    "        .cut(\n",
    "            breaks=[8.0, 9.0],\n",
    "            labels=[\"rating < 8\", \"8 <= rating < 9\", \"rating >= 9\"],\n",
    "            left_closed=True,\n",
    "        )\n",
    "        .alias(\"imdb_rating_group\"),\n",
    "    )\n",
    "    .sort(by=\"decade\")\n",
    ")\n",
    "\n",
    "fig = px.histogram(\n",
    "    mm,\n",
    "    x=\"imdb_rating\",\n",
    "    y=\"gross\",\n",
    "    nbins=20,\n",
    "    histfunc=\"avg\",\n",
    "    labels={\"imdb_rating\": \"IMDB Rating\", \"gross\": \"Gross Earnings\"},\n",
    "    title=\"Movie Gross Earnings by IMDB Rating\",\n",
    "    custom_data=[\"series_title\", \"released_year\"],\n",
    ")\n",
    "\n",
    "# fig = px.scatter(\n",
    "#     filtered_mm,\n",
    "#     x=\"imdb_rating\",\n",
    "#     y=\"gross\",\n",
    "#     log_y=True,\n",
    "#     color=\"decade\",\n",
    "#     title=\"Gross Earnings vs. IMDB Rating\",\n",
    "#     labels={\"imdb_rating\": \"IMDB Rating\", \"gross\": \"Gross [$]\"},\n",
    "#     custom_data=[\"series_title\", \"released_year\"],\n",
    "#     color_continuous_scale=\"Plasma_r\",\n",
    "# )\n",
    "\n",
    "fig.update_layout(\n",
    "    # height=400,\n",
    "    # width=900,\n",
    "    title={\n",
    "        \"y\": 0.95,\n",
    "        \"x\": 0.5,\n",
    "        \"xanchor\": \"center\",\n",
    "        \"yanchor\": \"top\",\n",
    "    },\n",
    "    # margin=dict(t=65, l=30, r=30, b=30),\n",
    "    # coloraxis_colorbar={\"title\": \"Decade\"},\n",
    ")\n",
    "\n",
    "fig.update_traces(\n",
    "    hovertemplate=\"<b>Movie:</b> %{customdata[0]}<br>\"\n",
    "                + \"<b>Release Year:</b> %{customdata[1]}<br>\"\n",
    "                + \"<b>IMDB Rating:</b> %{x}<br>\"\n",
    "                + \"<b>Gross:</b> $%{y:,.0f}\n",
    "                <extra></extra>\",\n",
    ")\n",
    "\n",
    "fig.show()"
   ]
  },
  {
   "cell_type": "markdown",
   "id": "51",
   "metadata": {},
   "source": [
    "### Genres\n",
    "Average `imdb_Rating` rating per genre."
   ]
  },
  {
   "cell_type": "code",
   "execution_count": null,
   "id": "52",
   "metadata": {},
   "outputs": [],
   "source": [
    "(\n",
    "    mm\n",
    "    .select(\n",
    "        pl.col(\"genre\"),\n",
    "        pl.col(\"imdb_rating\")\n",
    "    )\n",
    "    .explode(\"genre\")\n",
    "    .group_by(\"genre\")\n",
    "    .agg(\n",
    "        pl.col(\"imdb_rating\").mean().round(2).alias(\"avg_imdb_rating\"),\n",
    "        pl.len().alias(\"movie_count\"),\n",
    "    )\n",
    "    .sort(by=\"movie_count\", descending=True)\n",
    ")"
   ]
  },
  {
   "cell_type": "code",
   "execution_count": null,
   "id": "53",
   "metadata": {},
   "outputs": [],
   "source": []
  }
 ],
 "metadata": {
  "kernelspec": {
   "display_name": "collab",
   "language": "python",
   "name": "collab"
  },
  "language_info": {
   "codemirror_mode": {
    "name": "ipython",
    "version": 3
   },
   "file_extension": ".py",
   "mimetype": "text/x-python",
   "name": "python",
   "nbconvert_exporter": "python",
   "pygments_lexer": "ipython3",
   "version": "3.11.9"
  }
 },
 "nbformat": 4,
 "nbformat_minor": 5
}
