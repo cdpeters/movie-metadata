{
 "cells": [
  {
   "cell_type": "code",
   "execution_count": null,
   "id": "0",
   "metadata": {},
   "outputs": [],
   "source": [
    "from pathlib import Path\n",
    "\n",
    "import polars as pl\n",
    "import polars.selectors as cs"
   ]
  },
  {
   "cell_type": "markdown",
   "id": "1",
   "metadata": {},
   "source": [
    "## Read CSV"
   ]
  },
  {
   "cell_type": "code",
   "execution_count": null,
   "id": "2",
   "metadata": {},
   "outputs": [],
   "source": [
    "movie_metadata_path = Path.cwd() / \"imdb_top_1000.csv\"\n",
    "\n",
    "# mm_raw = raw movie metadata dataframe. Released year is mapped to a string because\n",
    "# there is at least 1 value in that column that cannot be inferred as an integer.\n",
    "mm_raw = pl.read_csv(source=movie_metadata_path, dtypes={\"Released_Year\": pl.String})"
   ]
  },
  {
   "cell_type": "markdown",
   "id": "3",
   "metadata": {},
   "source": [
    "### Adjust Max Allowed String Length in Output"
   ]
  },
  {
   "cell_type": "code",
   "execution_count": null,
   "id": "4",
   "metadata": {},
   "outputs": [],
   "source": [
    "# The movie title is treated as the priority for viewing string output in the dataframe.\n",
    "max_title_len = mm_raw[\"Series_Title\"].str.len_bytes().max()\n",
    "pl.Config.set_fmt_str_lengths(max_title_len)"
   ]
  },
  {
   "cell_type": "markdown",
   "id": "5",
   "metadata": {},
   "source": [
    "### Preview Raw Dataset"
   ]
  },
  {
   "cell_type": "code",
   "execution_count": null,
   "id": "6",
   "metadata": {},
   "outputs": [],
   "source": [
    "mm_raw.head()"
   ]
  },
  {
   "cell_type": "markdown",
   "id": "7",
   "metadata": {},
   "source": [
    "### Drop the `Poster_Link` and `Overview` Columns"
   ]
  },
  {
   "cell_type": "code",
   "execution_count": null,
   "id": "8",
   "metadata": {},
   "outputs": [],
   "source": [
    "mm = mm_raw.select(pl.col(\"*\").exclude(\"Poster_Link\", \"Overview\"))"
   ]
  },
  {
   "cell_type": "markdown",
   "id": "9",
   "metadata": {},
   "source": [
    "### Number of Columns Per Data Type"
   ]
  },
  {
   "cell_type": "code",
   "execution_count": null,
   "id": "10",
   "metadata": {},
   "outputs": [],
   "source": [
    "pl.Series(mm.dtypes).value_counts(sort=True)"
   ]
  },
  {
   "cell_type": "markdown",
   "id": "11",
   "metadata": {},
   "source": [
    "### Column Names Per Data Type\n",
    "#### Integer Columns"
   ]
  },
  {
   "cell_type": "code",
   "execution_count": null,
   "id": "12",
   "metadata": {},
   "outputs": [],
   "source": [
    "mm.select(cs.integer()).columns"
   ]
  },
  {
   "cell_type": "markdown",
   "id": "13",
   "metadata": {},
   "source": [
    "#### String Columns"
   ]
  },
  {
   "cell_type": "code",
   "execution_count": null,
   "id": "14",
   "metadata": {},
   "outputs": [],
   "source": [
    "mm.select(cs.string()).columns"
   ]
  },
  {
   "cell_type": "markdown",
   "id": "15",
   "metadata": {},
   "source": [
    "#### Float Columns"
   ]
  },
  {
   "cell_type": "code",
   "execution_count": null,
   "id": "16",
   "metadata": {},
   "outputs": [],
   "source": [
    "mm.select(cs.float()).columns"
   ]
  },
  {
   "cell_type": "markdown",
   "id": "17",
   "metadata": {},
   "source": [
    "## Transformations\n",
    "### Column Reordering"
   ]
  },
  {
   "cell_type": "code",
   "execution_count": null,
   "id": "18",
   "metadata": {},
   "outputs": [],
   "source": [
    "# A more logical ordering.\n",
    "col_order = [\n",
    "    \"Series_Title\",\n",
    "    \"Released_Year\",\n",
    "    \"Genre\",\n",
    "    \"Director\",\n",
    "    \"Star1\",\n",
    "    \"Star2\",\n",
    "    \"Star3\",\n",
    "    \"Star4\",\n",
    "    \"Certificate\",\n",
    "    \"Runtime\",\n",
    "    \"Gross\",\n",
    "    \"Meta_score\",\n",
    "    \"IMDB_Rating\",\n",
    "    \"No_of_Votes\",\n",
    "]\n",
    "\n",
    "mm = mm_raw.select(col_order)\n",
    "mm.head()"
   ]
  },
  {
   "cell_type": "markdown",
   "id": "19",
   "metadata": {},
   "source": [
    "### Convert `Released_Year` to Integer Column"
   ]
  },
  {
   "cell_type": "code",
   "execution_count": null,
   "id": "20",
   "metadata": {},
   "outputs": [],
   "source": [
    "# There is one value in the `Released_Year` column that is preventing the column from\n",
    "# being cast as an integer column. The movie is \"Apollo 13\"; the `Released_Year` value\n",
    "# is \"PG\" and should be changed to \"1995\". Then the column can be cast to an integer\n",
    "# column. `pl.lit()` is needed because polars would otherwise try to look for a column\n",
    "# named \"1995\".\n",
    "mm = mm.with_columns(\n",
    "    pl.when(pl.col(\"Released_Year\") == \"PG\")\n",
    "    .then(pl.lit(\"1995\"))\n",
    "    .otherwise(pl.col(\"Released_Year\"))\n",
    "    .cast(pl.Int16)\n",
    "    .alias(\"Released_Year\")\n",
    ")\n",
    "mm.head()"
   ]
  },
  {
   "cell_type": "code",
   "execution_count": null,
   "id": "21",
   "metadata": {},
   "outputs": [],
   "source": [
    "# Verify that the `Released_Year` value has been modified for the row that had the value\n",
    "# of \"PG\" previously.\n",
    "mm.filter(pl.col(\"Series_Title\") == \"Apollo 13\")[\"Released_Year\"]"
   ]
  },
  {
   "cell_type": "markdown",
   "id": "22",
   "metadata": {},
   "source": [
    "### Convert `Genre` to a List Column"
   ]
  },
  {
   "cell_type": "code",
   "execution_count": null,
   "id": "23",
   "metadata": {},
   "outputs": [],
   "source": [
    "mm = mm.with_columns(pl.col(\"Genre\").str.split(\", \"))\n",
    "mm[\"Genre\"].head()"
   ]
  },
  {
   "cell_type": "markdown",
   "id": "24",
   "metadata": {},
   "source": [
    "### Address the `Runtime` Column"
   ]
  },
  {
   "cell_type": "code",
   "execution_count": null,
   "id": "25",
   "metadata": {},
   "outputs": [],
   "source": [
    "mm = mm.with_columns(\n",
    "    pl.col(\"Runtime\").str.strip_chars_end(characters=\" min\").cast(pl.Int16)\n",
    ")\n",
    "mm[\"Runtime\"].head()"
   ]
  },
  {
   "cell_type": "markdown",
   "id": "26",
   "metadata": {},
   "source": [
    "### Address the `Gross` Column"
   ]
  },
  {
   "cell_type": "code",
   "execution_count": null,
   "id": "27",
   "metadata": {},
   "outputs": [],
   "source": [
    "mm = mm.with_columns(\n",
    "    pl.col(\"Gross\").str.replace_all(pattern=\",\", value=\"\", literal=True).cast(pl.Int32)\n",
    ")\n",
    "mm[\"Gross\"].head()"
   ]
  },
  {
   "cell_type": "code",
   "execution_count": null,
   "id": "28",
   "metadata": {},
   "outputs": [],
   "source": []
  }
 ],
 "metadata": {
  "kernelspec": {
   "display_name": "collab",
   "language": "python",
   "name": "collab"
  },
  "language_info": {
   "codemirror_mode": {
    "name": "ipython",
    "version": 3
   },
   "file_extension": ".py",
   "mimetype": "text/x-python",
   "name": "python",
   "nbconvert_exporter": "python",
   "pygments_lexer": "ipython3",
   "version": "3.11.9"
  }
 },
 "nbformat": 4,
 "nbformat_minor": 5
}
